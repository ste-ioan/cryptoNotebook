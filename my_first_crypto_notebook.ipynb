{
 "cells": [
  {
   "cell_type": "code",
   "execution_count": 34,
   "id": "5aee48ce",
   "metadata": {},
   "outputs": [],
   "source": [
    "import pandas as pd\n",
    "import numpy as np\n",
    "import requests\n",
    "from datetime import datetime, timedelta\n",
    "import matplotlib.pyplot as plt\n",
    "from datetime import datetime\n",
    "import time"
   ]
  },
  {
   "cell_type": "code",
   "execution_count": 4,
   "id": "4aa4a021",
   "metadata": {},
   "outputs": [],
   "source": [
    "currency = 'EUR'\n",
    "budget = 500\n",
    "\n",
    "# this web page has the coins listed by market cap\n",
    "get_market_cap = requests.get('https://api.coingecko.com/api/v3/coins/markets?vs_currency='+currency.lower()+'&order=market_cap_desc')\n",
    "market_cap = get_market_cap.json()\n",
    "mc_df = pd.DataFrame.from_dict(market_cap)\n",
    "top5 = mc_df.loc[0:4, 'symbol'].str.upper()"
   ]
  },
  {
   "cell_type": "code",
   "execution_count": 42,
   "id": "aa2a2502",
   "metadata": {},
   "outputs": [],
   "source": [
    "data = pd.DataFrame(columns=top5)\n",
    "today = date.today().strftime(\"%m/%d/%y\")\n",
    "current_millisec = round(time.time() * 1000)\n",
    "one_year_in_ms = 365 * 24 * 60 * 60 * 1000"
   ]
  },
  {
   "cell_type": "code",
   "execution_count": 43,
   "id": "3d26a106",
   "metadata": {},
   "outputs": [],
   "source": [
    "symbol = top5[0]+currency\n",
    "start = current_millisec\n",
    "\n",
    "for s in top5\n",
    " symbol = s+currency\n"
   ]
  },
  {
   "cell_type": "code",
   "execution_count": 59,
   "id": "a05251c6",
   "metadata": {},
   "outputs": [],
   "source": [
    "symbol = top5[0]+currency\n",
    "start = current_millisec\n",
    "\n",
    "r = requests.get(f'https://api1.binance.com/api/v3/klines?symbol={symbol}&interval=1d&startTime={start-one_year_in_ms}&endTime={start}')\n",
    "klines = r.json()\n",
    "raw = pd.DataFrame.from_dict(klines)"
   ]
  },
  {
   "cell_type": "code",
   "execution_count": 61,
   "id": "27e686d5",
   "metadata": {
    "scrolled": false
   },
   "outputs": [
    {
     "data": {
      "text/plain": [
       "0      39611.09000000\n",
       "1      40723.10000000\n",
       "2      43377.06000000\n",
       "3      42796.05000000\n",
       "4      46194.34000000\n",
       "            ...      \n",
       "360    38138.03000000\n",
       "361    37380.40000000\n",
       "362    37246.70000000\n",
       "363    37053.38000000\n",
       "364    37572.70000000\n",
       "Name: 4, Length: 365, dtype: object"
      ]
     },
     "execution_count": 61,
     "metadata": {},
     "output_type": "execute_result"
    }
   ],
   "source": [
    "raw[4] # these are the closing prices of each day\n",
    "\n",
    "# we want to convert raw[1] {which are the timestamps} to dates, and have those as rows in the dataframe,\n",
    "# and then each column consists in the raw[4] of each symbol\n",
    "\n",
    "# remember that we have a budget, and that the 20% of that budget is what amount of coin got bought \n",
    "# in year-1"
   ]
  },
  {
   "cell_type": "code",
   "execution_count": 110,
   "id": "d31e473a",
   "metadata": {},
   "outputs": [],
   "source": [
    "raw[0] = raw[0]/1e3\n",
    "temp_dates = raw[0].apply(datetime.fromtimestamp)\n",
    "dates = temp_dates.dt.date"
   ]
  },
  {
   "cell_type": "code",
   "execution_count": 116,
   "id": "c8423235",
   "metadata": {},
   "outputs": [
    {
     "data": {
      "text/plain": [
       "100.0"
      ]
     },
     "execution_count": 116,
     "metadata": {},
     "output_type": "execute_result"
    }
   ],
   "source": [
    "# basically, buy X amount of coin on day one with % of budget?\n",
    ".2 * budget"
   ]
  },
  {
   "cell_type": "code",
   "execution_count": 117,
   "id": "acf5a34f",
   "metadata": {},
   "outputs": [
    {
     "data": {
      "text/plain": [
       "'39611.09000000'"
      ]
     },
     "execution_count": 117,
     "metadata": {},
     "output_type": "execute_result"
    }
   ],
   "source": [
    "raw[4][0]"
   ]
  },
  {
   "cell_type": "code",
   "execution_count": null,
   "id": "90a62503",
   "metadata": {},
   "outputs": [],
   "source": [
    "# or instead just calculate interest change between days and multiply the investment by that?"
   ]
  }
 ],
 "metadata": {
  "kernelspec": {
   "display_name": "Python 3 (ipykernel)",
   "language": "python",
   "name": "python3"
  },
  "language_info": {
   "codemirror_mode": {
    "name": "ipython",
    "version": 3
   },
   "file_extension": ".py",
   "mimetype": "text/x-python",
   "name": "python",
   "nbconvert_exporter": "python",
   "pygments_lexer": "ipython3",
   "version": "3.8.6"
  }
 },
 "nbformat": 4,
 "nbformat_minor": 5
}
